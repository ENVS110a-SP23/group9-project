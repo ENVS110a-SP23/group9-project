{
 "cells": [
  {
   "cell_type": "markdown",
   "id": "505df5ba",
   "metadata": {},
   "source": [
    "# Group 9 Project Data Pre-Processing Description - Ocean Acidification"
   ]
  },
  {
   "cell_type": "markdown",
   "id": "727d8f59",
   "metadata": {},
   "source": [
    "### We plan to research how increased ocean acidification affect the broader coastal ecosystem. This can be broken down into two specific research questions:\n",
    "#### 1) Is the increase in ocean acidity associated with a net decrease in coastal biodiversity?\n",
    "#### 2) What are the socio-economic and health-related impacts of ocean acidification.\n",
    "#### By socio-economic impacts, we are discussing the societal and human impact of ocean and marine health, such as impacts on the fishing industry as well as coastal resilience efforts."
   ]
  },
  {
   "cell_type": "code",
   "execution_count": null,
   "id": "3dd2e3a8",
   "metadata": {},
   "outputs": [],
   "source": [
    "import pandas as pd\n",
    "codap_df = pd.read_csv(r'CODAP_NA_v2021.csv', low_memory=False) # placed into group 9 project directory\n",
    "zooplankton_df = pd.read_excel(r'BATS_zooplankton.xlsx') # placed into group 9 project directory\n",
    "print(codap_df)\n",
    "print(zooplankton_df)"
   ]
  },
  {
   "cell_type": "markdown",
   "id": "41f0071b",
   "metadata": {},
   "source": [
    "There is no major data missing from either dataset. Each dataset contains exclusively raw measurement data of several oceanographic variables, the most important being:\n",
    "**CODAP_NA_v2021**: \n",
    "This dataset includes discrete measurements from 2003 to 2018. An image showing measurement coverage is included in the project directory. Geographically, this area covers: U.S. West Coast, U.S. East Coast, Gulf of Mexico, Gulf of Alaska, Bering Sea, North Atlantic Ocean, and the North Pacific Ocean. The origin of the data is the NOAA Ocean Acidification Program (OAP). \n",
    "* General locational data\n",
    "    - dates, lat, long, cruise identification numbers\n",
    "* Dissolved inorganic carbon (DIC)\n",
    "    - carbon deposits can either be organic or inorganic and dissolved or particulate\n",
    "* Total alkalinity\n",
    "* pH\n",
    "* Continous and discrete seawater pCO2\n",
    "    - dissolved CO2 concentrations\n",
    "* Carbonate concentrations \n",
    "    - spectrophotometer\n",
    "* Aragonite & calcite saturation\n",
    "    - carbonite sources as an alternative measurement system for dissolved carbonite concentrations\n",
    "* Revelle factor\n",
    "    - ratio of CO2 change to change in total dissolved inorganic carbon (DIC)\n",
    "* Oxygen concentration\n",
    "* Apparent oxygen utilization \n",
    "    - measured dissolved oxygen concentration and its equilibrium saturation concentration in water with the same physical and chemical properties\n",
    "* Various dissolved chemical concentrations important for biological life\n",
    "    - silicate, phosphate, nitrate, nitrites, ammonium\n",
    "* CTD measurements \n",
    "    - conductivity, temperature and depth measurements, includes salinity and pressure \n",
    "\n",
    "**BATS_zooplankton**\n",
    "This dataset is sourced from the Bermuda Institute of Ocean Sciences and primarily measures zooplankton biomass. The range of data collection is from 1994 to 2020, with discrete measurement sampling. One of the major hypotheses that this study aims to answer is: *changes in seawater CO2-carbonate chemistry and ocean acidification indicators at BATS are the longest record in the global ocean and comparable to the six other globally distributed time-series (Bates et al., 2012; 2014)*, so this dataset is topical to our data analysis and visualization focus. \n",
    "* General locational data\n",
    "* Max depth of sampling\n",
    "* Volume of water sampled\n",
    "    - volume of water sampled has significant influence on the concentration of ions and other carbonate-related minerals that might have an influence on zooplankton concentrations\n",
    "* Weight of zooplankton biomass\n",
    "    - wet weight and dry weight, ratios of weight-to-volume, total weights accounting for all size fractions of zooplankton"
   ]
  },
  {
   "cell_type": "code",
   "execution_count": null,
   "id": "518698aa",
   "metadata": {},
   "outputs": [],
   "source": []
  }
 ],
 "metadata": {
  "kernelspec": {
   "display_name": "Python 3 (ipykernel)",
   "language": "python",
   "name": "python3"
  },
  "language_info": {
   "codemirror_mode": {
    "name": "ipython",
    "version": 3
   },
   "file_extension": ".py",
   "mimetype": "text/x-python",
   "name": "python",
   "nbconvert_exporter": "python",
   "pygments_lexer": "ipython3",
   "version": "3.9.13"
  }
 },
 "nbformat": 4,
 "nbformat_minor": 5
}
